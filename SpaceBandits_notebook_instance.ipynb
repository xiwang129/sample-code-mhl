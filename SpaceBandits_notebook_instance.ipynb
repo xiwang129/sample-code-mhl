{
 "cells": [
  {
   "cell_type": "markdown",
   "metadata": {},
   "source": [
    "# Train model on SageMaker notebook instance "
   ]
  },
  {
   "cell_type": "code",
   "execution_count": 1,
   "metadata": {
    "collapsed": true
   },
   "outputs": [],
   "source": [
    "import os\n",
    "import numpy as np\n",
    "import pandas as pd\n",
    "import matplotlib.pyplot as plt\n",
    "\n",
    "from space_bandits import LinearBandits, NeuralBandits "
   ]
  },
  {
   "cell_type": "code",
   "execution_count": 2,
   "metadata": {},
   "outputs": [
    {
     "data": {
      "text/plain": [
       "'/Users/Xiang/shuttle.txt'"
      ]
     },
     "execution_count": 2,
     "metadata": {},
     "output_type": "execute_result"
    }
   ],
   "source": [
    "os.path.join('/Users/Xiang/shuttle.txt')"
   ]
  },
  {
   "cell_type": "code",
   "execution_count": 3,
   "metadata": {
    "collapsed": true
   },
   "outputs": [],
   "source": [
    "def classification_to_bandit_problem(contexts, labels, num_actions=None):\n",
    "    \n",
    "    if num_actions is None:\n",
    "        num_actions = np.max(labels) + 1\n",
    "    num_contexts = contexts.shape[0]\n",
    "    \n",
    "   \n",
    "    contexts = contexts - np.mean(contexts, axis=0)\n",
    "    \n",
    "    rewards = np.zeros((num_contexts, num_actions))\n",
    "    rewards[np.arange(num_contexts), labels] = 1.0\n",
    "    \n",
    "    return contexts, rewards, (np.ones(num_contexts), labels)"
   ]
  },
  {
   "cell_type": "code",
   "execution_count": 4,
   "metadata": {
    "collapsed": true
   },
   "outputs": [],
   "source": [
    "def sample_statlog_data(file_name, num_contexts):\n",
    "    \n",
    "    with open('shuttle.txt', 'r') as f:\n",
    "        data = np.loadtxt(f, skiprows=1)\n",
    "    \n",
    "    num_actions = 7\n",
    "    data = data[:num_contexts, :]\n",
    "    \n",
    "    contexts = data[:, :-1]\n",
    "    labels = data[:, -1].astype(int) -1\n",
    "    \n",
    "    return classification_to_bandit_problem(contexts,labels, num_actions)"
   ]
  },
  {
   "cell_type": "code",
   "execution_count": 5,
   "metadata": {
    "collapsed": true
   },
   "outputs": [],
   "source": [
    "DATA_FILES = {'statlog': 'shuttle.txt'}\n",
    "\n",
    "def sample_data(data_type, num_contexts):\n",
    "    if data_type == 'statlog':\n",
    "         \n",
    "        file_name = DATA_FILES[data_type]\n",
    "        num_actions = 7\n",
    "        num_contexts = min(43500, num_contexts)\n",
    "    \n",
    "        sampled_vals = sample_statlog_data(file_name, num_contexts)\n",
    "        contexts, rewards, (opt_rewards, opt_actions) = sampled_vals\n",
    "        dataset = np.hstack((contexts, rewards))\n",
    "        context_dim = contexts.shape[1]\n",
    "    \n",
    "    return dataset, opt_rewards, opt_actions, num_actions, context_dim"
   ]
  },
  {
   "cell_type": "code",
   "execution_count": 6,
   "metadata": {},
   "outputs": [
    {
     "data": {
      "text/plain": [
       "(array([[  6.75029311,   0.20561392,   6.65824502, ...,   0.        ,\n",
       "           0.        ,   0.        ],\n",
       "        [  4.75029311,   0.20561392,  -3.34175498, ...,   0.        ,\n",
       "           0.        ,   0.        ],\n",
       "        [-11.24970689,   0.20561392,  -9.34175498, ...,   0.        ,\n",
       "           0.        ,   0.        ],\n",
       "        ...,\n",
       "        [ -0.24970689,   0.20561392,  -7.34175498, ...,   0.        ,\n",
       "           0.        ,   0.        ],\n",
       "        [ -7.24970689,   0.20561392,  -6.34175498, ...,   0.        ,\n",
       "           0.        ,   0.        ],\n",
       "        [ -8.24970689,  -2.79438608,  14.65824502, ...,   0.        ,\n",
       "           0.        ,   0.        ]]),\n",
       " array([1., 1., 1., ..., 1., 1., 1.]),\n",
       " array([3, 0, 0, ..., 0, 0, 0]),\n",
       " 7,\n",
       " 9)"
      ]
     },
     "execution_count": 6,
     "metadata": {},
     "output_type": "execute_result"
    }
   ],
   "source": [
    "sample_data('statlog',43500)"
   ]
  },
  {
   "cell_type": "code",
   "execution_count": 7,
   "metadata": {
    "collapsed": true
   },
   "outputs": [],
   "source": [
    "dataset, opt_rewards,opt_actions, num_actions, context_dim = sample_data('statlog',43500)"
   ]
  },
  {
   "cell_type": "code",
   "execution_count": 8,
   "metadata": {
    "collapsed": true
   },
   "outputs": [],
   "source": [
    "contexts, rewards = dataset[:,:-num_actions], dataset[:,-num_actions:]"
   ]
  },
  {
   "cell_type": "code",
   "execution_count": 9,
   "metadata": {},
   "outputs": [
    {
     "data": {
      "text/plain": [
       "(7,)"
      ]
     },
     "execution_count": 9,
     "metadata": {},
     "output_type": "execute_result"
    }
   ],
   "source": [
    "rewards[1].shape"
   ]
  },
  {
   "cell_type": "code",
   "execution_count": 10,
   "metadata": {
    "collapsed": true
   },
   "outputs": [],
   "source": [
    "linear_model = LinearBandits(num_actions,context_dim, initial_pulls=150)"
   ]
  },
  {
   "cell_type": "code",
   "execution_count": 11,
   "metadata": {
    "collapsed": true
   },
   "outputs": [],
   "source": [
    "def train(model, dataset, num_actions, steps, optimal_rewards, records=None, plot_frequency=2000, avg_length=800):\n",
    "    \"\"\"Goes through online learning simulation with model.\"\"\"\n",
    "    #these will track values for plotting\n",
    "    if records is None:\n",
    "        records = dict()\n",
    "        records['timesteps'] = []\n",
    "        records['c_reward'] = []\n",
    "        records['cumulative_reward'] = 0\n",
    "        records['m_reward'] = []\n",
    "        records['maximum_reward'] = 0\n",
    "        records['regret_record'] = []\n",
    "        records['avg_regret'] = []\n",
    "        records['rewards'] = []\n",
    "        records['opt_rewards'] = []\n",
    "        start = 0\n",
    "    else:\n",
    "        start = records['timesteps'][-1]\n",
    "    \n",
    "    \n",
    "    contexts, rewards = dataset[:,:-num_actions], dataset[:,-num_actions:]\n",
    "    num_contexts = len(dataset)\n",
    "    \n",
    "    for i in range(start,start+steps):\n",
    "        records['timesteps'].append(i)\n",
    "        opt_reward = optimal_rewards[i]\n",
    "        context = contexts[i]\n",
    "        reward = rewards[i]\n",
    "        records['maximum_reward'] += opt_reward\n",
    "        records['m_reward'].append(records['maximum_reward'])\n",
    "        \n",
    "        action = model.action(context)\n",
    "        reward_taken = reward[action]\n",
    "        regret = opt_reward - reward_taken\n",
    "        model.update(context, action, reward_taken)\n",
    "        records['rewards'].append(reward_taken)\n",
    "        records['opt_rewards'].append(opt_reward)\n",
    "        records['regret_record'].append(regret)\n",
    "        records['cumulative_reward'] += reward_taken\n",
    "        records['c_reward'].append(records['cumulative_reward'])\n",
    "\n",
    "        #plot occasionally\n",
    "        if i <= avg_length:\n",
    "            if i < avg_length:\n",
    "                moving_avg=0\n",
    "            else:\n",
    "                moving_avg = np.array(records['regret_record']).mean()\n",
    "            if i == avg_length:\n",
    "                records['avg_regret'] = [moving_avg] * avg_length\n",
    "        else:\n",
    "            moving_avg = sum(records['regret_record'][-avg_length:])/avg_length\n",
    "        records['avg_regret'].append(moving_avg)\n",
    "        if i % plot_frequency == 0 and i > 0:\n",
    "            plot_regret(records)\n",
    "            #plot_reward(records)\n",
    "    return records"
   ]
  },
  {
   "cell_type": "code",
   "execution_count": 12,
   "metadata": {
    "collapsed": true
   },
   "outputs": [],
   "source": [
    "def plot_regret(records):\n",
    "    c_rewardplt = np.array(records['c_reward'])/max(records['m_reward'])\n",
    "    m_rewardplt = np.array(records['m_reward'])/max(records['m_reward'])\n",
    "    regretplt = np.array(records['avg_regret'])/max(records['avg_regret'])\n",
    "    plt.plot(records['timesteps'], c_rewardplt, label='cumulative reward')\n",
    "    plt.plot(records['timesteps'], m_rewardplt, label='maximum reward')\n",
    "    plt.plot(records['timesteps'], regretplt, color='red', label='mean regret')\n",
    "    plt.title('Normalized Reward & Regret')\n",
    "    plt.legend()\n",
    "    plt.show()"
   ]
  },
  {
   "cell_type": "code",
   "execution_count": 13,
   "metadata": {},
   "outputs": [
    {
     "data": {
      "image/png": "[encoded data removed]",
      "text/plain": [
       "<matplotlib.figure.Figure at 0x1a2277eb38>"
      ]
     },
     "metadata": {},
     "output_type": "display_data"
    }
   ],
   "source": [
    "records = _ = train(linear_model, dataset, num_actions, 10001, opt_rewards, plot_frequency=9999)"
   ]
  },
  {
   "cell_type": "code",
   "execution_count": 52,
   "metadata": {
    "collapsed": true
   },
   "outputs": [],
   "source": [
    "num_actions=7"
   ]
  },
  {
   "cell_type": "code",
   "execution_count": 74,
   "metadata": {
    "collapsed": true
   },
   "outputs": [],
   "source": [
    "from space_bandits import load_model\n",
    "\n",
    "linear_model.save('model_10k.pkl')\n",
    "linear_model = load_model('model_10k.pkl')"
   ]
  },
  {
   "cell_type": "markdown",
   "metadata": {},
   "source": [
    "# Zip model artefact and upload to S3"
   ]
  },
  {
   "cell_type": "code",
   "execution_count": 75,
   "metadata": {
    "collapsed": true
   },
   "outputs": [],
   "source": [
    "import tarfile\n",
    "\n",
    "with tarfile.open('/Users/Xiang/model.tar.gz', 'w:gz') as f:\n",
    "    t = tarfile.TarInfo('model')\n",
    "    t.type = tarfile.DIRTYPE\n",
    "    f.addfile(t)\n",
    "    f.add('/Users/Xiang/model_10k.pkl', arcname='model_10k.pkl')"
   ]
  },
  {
   "cell_type": "code",
   "execution_count": 84,
   "metadata": {
    "collapsed": true
   },
   "outputs": [],
   "source": [
    "import sagemaker\n",
    "import boto3\n",
    "from sagemaker.utils import name_from_base\n",
    "\n",
    "sagemaker_session = sagemaker.Session()\n",
    "bucket = sagemaker_session.default_bucket()"
   ]
  },
  {
   "cell_type": "markdown",
   "metadata": {},
   "source": [
    "# Deploy to SageMaker"
   ]
  },
  {
   "cell_type": "code",
   "execution_count": null,
   "metadata": {
    "collapsed": true
   },
   "outputs": [],
   "source": [
    "role = sagemaker.get_execution_role()"
   ]
  },
  {
   "cell_type": "code",
   "execution_count": null,
   "metadata": {
    "collapsed": true
   },
   "outputs": [],
   "source": [
    "class Predictor(RealTimePredictor):\n",
    "    def __init__(self, endpoint_name, sagemaker_session):\n",
    "        super().__init__(endpoint_name, sagemaker_session=sagemaker_session, serializer=None, \n",
    "                         deserializer=json_deserializer, content_type=CSV_CONTENT_TYPE)"
   ]
  },
  {
   "cell_type": "code",
   "execution_count": null,
   "metadata": {
    "collapsed": true
   },
   "outputs": [],
   "source": [
    "model=PyTorchModel(model_data=model_artefact, name=name_from_base(\"spacebanditswang\"),\n",
    "    role=role, framework_version='1.3.1',entry_point='serve.py', predictor_cls=Predictor)\n",
    "\n",
    "predictor = model.deploy(initial_instance_count=1, instance_type='ml.m4.xlarge')"
   ]
  },
  {
   "cell_type": "code",
   "execution_count": null,
   "metadata": {
    "collapsed": true
   },
   "outputs": [],
   "source": []
  }
 ],
 "metadata": {
  "kernelspec": {
   "display_name": "Python 3",
   "language": "python",
   "name": "python3"
  },
  "language_info": {
   "codemirror_mode": {
    "name": "ipython",
    "version": 3
   },
   "file_extension": ".py",
   "mimetype": "text/x-python",
   "name": "python",
   "nbconvert_exporter": "python",
   "pygments_lexer": "ipython3",
   "version": "3.6.8"
  }
 },
 "nbformat": 4,
 "nbformat_minor": 2
}
