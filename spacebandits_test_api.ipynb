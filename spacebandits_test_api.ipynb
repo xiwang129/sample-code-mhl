{
 "cells": [
  {
   "cell_type": "code",
   "execution_count": 24,
   "metadata": {
    "collapsed": true
   },
   "outputs": [],
   "source": [
    "import requests\n",
    "import pandas as pd\n",
    "import json\n",
    "from six import BytesIO\n",
    "import numpy as np"
   ]
  },
  {
   "cell_type": "code",
   "execution_count": 25,
   "metadata": {
    "collapsed": true
   },
   "outputs": [],
   "source": [
    "df = pd.read_csv('shuttle.txt')"
   ]
  },
  {
   "cell_type": "code",
   "execution_count": 26,
   "metadata": {
    "collapsed": true
   },
   "outputs": [],
   "source": [
    "contexts = df.to_numpy()"
   ]
  },
  {
   "cell_type": "code",
   "execution_count": 27,
   "metadata": {
    "collapsed": true
   },
   "outputs": [],
   "source": [
    "context_json = json.dumps(contexts.tolist())"
   ]
  },
  {
   "cell_type": "code",
   "execution_count": 28,
   "metadata": {},
   "outputs": [],
   "source": [
    "d = {'data':context_json}"
   ]
  },
  {
   "cell_type": "code",
   "execution_count": 29,
   "metadata": {
    "collapsed": true
   },
   "outputs": [],
   "source": [
    "api_endpoint = 'https://qw6r43xed7.execute-api.us-east-1.amazonaws.com/test'"
   ]
  },
  {
   "cell_type": "code",
   "execution_count": 30,
   "metadata": {
    "collapsed": true
   },
   "outputs": [],
   "source": [
    "r = requests.post(api_endpoint, json=d)"
   ]
  },
  {
   "cell_type": "code",
   "execution_count": 31,
   "metadata": {},
   "outputs": [
    {
     "data": {
      "text/plain": [
       "'{\"errorMessage\": \"\\'ENDPOINT_Name\\'\", \"errorType\": \"KeyError\", \"stackTrace\": [\"  File \\\\\"/var/lang/lib/python3.8/imp.py\\\\\", line 234, in load_module\\\\n    return load_source(name, filename, file)\\\\n\", \"  File \\\\\"/var/lang/lib/python3.8/imp.py\\\\\", line 171, in load_source\\\\n    module = _load(spec)\\\\n\", \"  File \\\\\"<frozen importlib._bootstrap>\\\\\", line 702, in _load\\\\n\", \"  File \\\\\"<frozen importlib._bootstrap>\\\\\", line 671, in _load_unlocked\\\\n\", \"  File \\\\\"<frozen importlib._bootstrap_external>\\\\\", line 783, in exec_module\\\\n\", \"  File \\\\\"<frozen importlib._bootstrap>\\\\\", line 219, in _call_with_frames_removed\\\\n\", \"  File \\\\\"/var/task/lambda_function.py\\\\\", line 7, in <module>\\\\n    ENDPOINT_Name = os.environ[\\'ENDPOINT_Name\\']\\\\n\", \"  File \\\\\"/var/lang/lib/python3.8/os.py\\\\\", line 673, in __getitem__\\\\n    raise KeyError(key) from None\\\\n\"]}'"
      ]
     },
     "execution_count": 31,
     "metadata": {},
     "output_type": "execute_result"
    }
   ],
   "source": [
    "r.text"
   ]
  },
  {
   "cell_type": "code",
   "execution_count": null,
   "metadata": {
    "collapsed": true
   },
   "outputs": [],
   "source": []
  }
 ],
 "metadata": {
  "kernelspec": {
   "display_name": "Python 3",
   "language": "python",
   "name": "python3"
  },
  "language_info": {
   "codemirror_mode": {
    "name": "ipython",
    "version": 3
   },
   "file_extension": ".py",
   "mimetype": "text/x-python",
   "name": "python",
   "nbconvert_exporter": "python",
   "pygments_lexer": "ipython3",
   "version": "3.6.8"
  }
 },
 "nbformat": 4,
 "nbformat_minor": 2
}
